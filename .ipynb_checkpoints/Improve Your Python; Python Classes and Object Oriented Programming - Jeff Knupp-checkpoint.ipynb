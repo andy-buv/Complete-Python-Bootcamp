{
 "cells": [
  {
   "cell_type": "markdown",
   "metadata": {},
   "source": [
    "# Improve Your Python: Python Classes and Object Oriented Programming\n",
    "\n",
    "The **```class```** is a fundamental building block in Python. It is the underpinning for not only many popular programs and libraries, but the Python standard library as well. Understanding what classes are, when to use them, and how they can be useful is essential, and the goal of this article. In the process, we'll explore what the term *Object-Oriented Programming* means and how it ties together with Python classes.\n",
    "\n",
    "## Everything is An Object...\n",
    "What is the **```class```** keyword used for, exactly? Like its function-based cousin **```def```**, it concerns the *definition* of things. While **```def```** is used to define a function, **```class```** is used to define a class. And what is a class? Simply a logical grouping of data and functions (the latter of which are frequently referred to as \"methods\" when defined within a class).\n",
    "\n",
    "What do we mean by \"logical grouping\"? Well, a class can contain any data we'd like it to, and can have any functions (methods) attached to it that we please. Rather than just throwing random things together under the name \"class\", we try to create classes where there is a logical connection between things. Many times, classes are based on objects in the real world (like **```Customer```** or **```Product```**). Other times, classes are based on concepts in our system, like **```HTTPRequest```** or **```Owner```**.\n",
    "\n",
    "Regardless, classes are a *modeling* technique; a way of thinking about programs. When you think about and implement your system in this way, you're said to be performing *Object-Oriented Programming*. \"Classes\" and \"objects\" are words that are often used interchangeably, but they're not really the same thing. Understanding what makes them different is the key to understanding what they are and how they work.\n",
    "\n",
    "## So Everything Has A Class?\n",
    "Classes can be thought of as *blueprints* for *creating objects*. When I define a Customer class using the **```class```** keyword, I haven't actually created a customer. Instead, what I've created is a sort of instruction manual for constructing \"customer\" objects. Let's look at the following example code:"
   ]
  },
  {
   "cell_type": "code",
   "execution_count": null,
   "metadata": {
    "collapsed": true
   },
   "outputs": [],
   "source": [
    "class Customer(object):\n",
    "    \"\"\"A customer of ABC Bank with a checking account. Cutomers have the following properties:\n",
    "    \n",
    "    Attributes:\n",
    "        name: A string representing the customer's name.\n",
    "        balance: A float tracking the current balance of the customer's account.\n",
    "        \"\"\"\n",
    "    def __init(self, name, balance=0.0):\n",
    "        \"\"\"Return a Customer object whose name is *name* and starting\n",
    "        balance is *balance*.\"\"\"\n",
    "        self.name = name\n",
    "        self.balance = balance\n",
    "    \n",
    "    def withdraw(self, amount):\n",
    "        \"\"\"Return the balance remaining after withdrawing *amount* dollars.\"\"\"\n",
    "        if amount > self.balance:\n",
    "            raise RuntimeError('Amount greater than available balance.')\n",
    "        self.balance -= amount\n",
    "        return self.balance\n",
    "    \n",
    "    def deposit(self, amount):\n",
    "        \"\"\"Return the balance remaining after depositing *amount* dollars.\"\"\"\n",
    "        self.balance += amount\n",
    "        return self.balance\n",
    "    \n",
    "    "
   ]
  },
  {
   "cell_type": "markdown",
   "metadata": {},
   "source": [
    "The **```class Customer(object)```** line *does not* create a new customer. That is, just because we've defined a **```Customer```** doesn't mean we've *created* one; we've merely outlined the *blueprint* to create a **```Customer```** object. To do so, we call the class's **```__init__```** method with the proper number of arguments (minus **```self```**, which we'll get to in a moment).\n",
    "\n",
    "So, to use the \"blueprint\" that we created by defining the **```class Customer```** (which is used to create **```Customer```** objects), we call the class name almost as if it were a function: **```jeff = Customer('Jeff Knupp', 1000.0)```**. This line simply says \"use the **```Customer```** blueprint to create me a new object, which I'll refer to as **```jeff```**.\"\n",
    "\n",
    "The **```jeff```** *object*, known as an *instance*, is the realized version of the **```Customer```** *class*. Before we called **```Customer()```**, no **```Customer```** object existed. We can, of course, create as many **```Customer```** objects as we'd like. There is still, however, only one **```Customer```** *class*, regardless of how many *instances* of the class we create.\n",
    "\n",
    "## ```self```?\n",
    "So what's with that **```self```** parameter to all of the **```Customer```** methods? What is it? Why, it's the instance, of course! Put another way, a method like **```withdraw```** defines the instructions for withdrawing money from *some abstract customer's account*. Calling **```jeff.withdraw(100.0)```** puts those instructions to use on the **```jeff```** instance.\n",
    "\n",
    "So when we say **```def withdraw(self, amount):```**, we're saying, \"here's how you withdraw money from a Customer object (which we'll call **```self```**) and a dollar figure (which we'll call **```amount```**). **```self```** is the *instance* of the **```Customer```** that **```withdraw```** is being called on. That's not me making analogies, either. **```jeff.withdraw(100.0)```** is just shorthand for **```Customer.withdraw(jeff, 100.0)```**, which is perfectly valid (if not often seen) code.\n"
   ]
  },
  {
   "cell_type": "markdown",
   "metadata": {},
   "source": [
    "## ```__init__```\n",
    "\n",
    "**`self`** may make sense for other methods, but what about **`__init__`**? When we call **`__init__`**, we're in the process of creating an object, so how can there already be a **`self`**? Python allows us to extend the **`self`** pattern to when objects are constructed as well, even though it doesn't *exactly* fit. Just imagine that **`jeff = Customer('Jeff Knupp', 1000.0)`** is the same as calling **`jeff = Customer(jeff, 'Jeff Knupp', 1000.0)`**; the **`jeff`** that's passed in is also made the result.\n",
    "\n",
    "This is why when we call **`__init__`**, we *initialize* objects by saying things like **`self.name = name`**. Remember, since self is the instance, this is equivalent to saying **`jeff.name = name`**, which is the same as **`jeff.name = Jeff Knupp`**. Similarly, **`self.balance = balance`** is the same as **`jeff.balance = 1000.0`**. After these two lines, we consider the **`Customer`** object \"initialized\" and ready for use.\n",
    "\n",
    "## Be careful what you `__init__` \n",
    "\n",
    "After **`__init__`** has finished, the caller can rightly assume that the object is ready to use. That is, after **`jeff = Customer('Jeff Knupp', 1000.0)`**, we can start making **`deposit`** and **`withdraw`** calls on **`jeff`**; **`jeff`** is a **fully-initialized** object.\n",
    "\n",
    "Imagine for a moment we had defined the **`Customer`** class slightly differently:"
   ]
  },
  {
   "cell_type": "code",
   "execution_count": 77,
   "metadata": {
    "collapsed": true
   },
   "outputs": [],
   "source": [
    "class Customer(object):\n",
    "    \"\"\"A customer of ABC Bank with a checking account. Customers have the\n",
    "    following properties:\n",
    "\n",
    "    Attributes:\n",
    "        name: A string representing the customer's name.\n",
    "        balance: A float tracking the current balance of the customer's account.\n",
    "    \"\"\"\n",
    "\n",
    "    def __init__(self, name):\n",
    "        \"\"\"Return a Customer object whose name is *name*.\"\"\" \n",
    "        self.name = name\n",
    "\n",
    "    def set_balance(self, balance=0.0):\n",
    "        \"\"\"Set the customer's starting balance.\"\"\"\n",
    "        self.balance = balance\n",
    "\n",
    "    def withdraw(self, amount):\n",
    "        \"\"\"Return the balance remaining after withdrawing *amount*\n",
    "        dollars.\"\"\"\n",
    "        if amount > self.balance:\n",
    "            raise RuntimeError('Amount greater than available balance.')\n",
    "        self.balance -= amount\n",
    "        return self.balance\n",
    "\n",
    "    def deposit(self, amount):\n",
    "        \"\"\"Return the balance remaining after depositing *amount*\n",
    "        dollars.\"\"\"\n",
    "        self.balance += amount\n",
    "        return self.balance"
   ]
  },
  {
   "cell_type": "markdown",
   "metadata": {},
   "source": [
    "This may look like a reasonable alternative; we simply need to call **`set_balance`** before we begin using the instance. There's no way, however, to communicate this to the caller. Even if we document it extensively, we can't force the caller to call **`jeff.set_balance(1000.0)`** before calling **`jeff.withdraw(100.0)`**. Since the **`jeff`** instance doesn't even have a balance attribute until **`jeff.set_balance`** is called, this means that the object hasn't been \"fully\" initialized.\n",
    "\n",
    "The rule of thumb is, don't introduce a new attribute outside of the **`__init__`** method, otherwise you've given the caller an object that isn't fully initialized. There are exceptions, of course, but it's a good principle to keep in mind. This is part of a larger concept of object consistency: there shouldn't be any series of method calls that can result in the object entering a state that doesn't make sense.\n",
    "\n",
    "Invariants (like, \"balance should always be a non-negative number\") should hold both when a method is entered and when it is exited. It should be impossible for an object to get into an invalid state just by calling its methods. It goes without saying, then, that an object should start in a valid state as well, which is why it's important to initialize everything in the **`__init__`** method.\n",
    "\n",
    "## Instance Attributes and Methods\n",
    "An function defined in a class is called a \"method\". Methods have access to all the data contained on the instance of the object; they can access and modify anything previously set on **`self`**. Because they use **`self`**, they require an instance of the class in order to be used. For this reason, they're often referred to as \"instance methods\".\n",
    "\n",
    "If there are \"instance methods\", then surely there are other types of methods as well, right? Yes, there are, but these methods are a bit more esoteric. We'll cover them briefly here, but feel free to research these topics in more depth.\n",
    "\n",
    "## Static Methods\n",
    "Class attributes are attributes that are set at the class-level, as opposed to the instance-level. Normal attributes are introduced in the **`__init__`** method, but some attributes of a class hold for all instances in all cases. For example, consider the following definition of a **`Car`** object:"
   ]
  },
  {
   "cell_type": "code",
   "execution_count": null,
   "metadata": {
    "collapsed": true
   },
   "outputs": [],
   "source": [
    "class Car(object):\n",
    "\n",
    "    wheels = 4\n",
    "\n",
    "    def __init__(self, make, model):\n",
    "        self.make = make\n",
    "        self.model = model\n",
    "\n",
    "mustang = Car('Ford', 'Mustang')\n",
    "print mustang.wheels\n",
    "# 4\n",
    "print Car.wheels\n",
    "# 4"
   ]
  },
  {
   "cell_type": "markdown",
   "metadata": {},
   "source": [
    "A **'Car'** always has four wheels, regardless of the make or model. Instance methods can access these attributes in the same way they access regular attributes: through self (i.e. self.wheels).\n",
    "\n",
    "There is a class of methods, though, called static methods, that don't have access to self. Just like class attributes, they are methods that work without requiring an instance to be present. Since instances are always referenced through self, static methods have no self parameter.\n",
    "\n",
    "The following would be a valid static method on the Car class:"
   ]
  },
  {
   "cell_type": "code",
   "execution_count": null,
   "metadata": {
    "collapsed": true
   },
   "outputs": [],
   "source": [
    "class Car(object):\n",
    "    \"\"\"A car for sale by Jeffco Car Dealership.\n",
    "    \n",
    "    Attributes:\n",
    "    Wheels: An integer representing the number of wheels the car has.\n",
    "    Miles: The integral number of miles driven on the car.\n",
    "    Make: The make of the car as a string.\n",
    "    Model: The model of the car as a string.\n",
    "    Year: The integral year the car was built.\n",
    "    Sold_on: The date the vehicle was sold.\"\"\"\n",
    "    \n",
    "    def __init__(self, wheels, miles, make, model, year, sold_on):\n",
    "        \"\"\"Return a new Car object.\"\"\"\n",
    "        self.wheels = wheels\n",
    "        self.miles = miles\n",
    "        self.make = make\n",
    "        self.model = model\n",
    "        self.year = year\n",
    "        self.sold_on = sold_on\n",
    "        \n",
    "    def sale_price(self):\n",
    "        \"\"\"Return the sale price for this car as a float amount.\"\"\"\n",
    "        if self.sold_on is not None:\n",
    "            return 0.0 # Already sold\n",
    "        return 5000.0 * self.wheels\n",
    "    \n",
    "    def purchase_price(self):\n",
    "        \"\"\"Return the price for which we would pay to purchase the car.\"\"\"\n",
    "        if self.sold_on is None:\n",
    "            return 0.0 # Not yet sold\n",
    "        return 8000 - (.10 * self.miles)\n",
    "    "
   ]
  },
  {
   "cell_type": "markdown",
   "metadata": {},
   "source": []
  },
  {
   "cell_type": "code",
   "execution_count": null,
   "metadata": {
    "collapsed": true
   },
   "outputs": [],
   "source": [
    "\n",
    "class Vehicle(object):\n",
    "    \"\"\"A vehicle for sale by Jeffco Car Dealership.\n",
    "\n",
    "    Attributes:\n",
    "        wheels: An integer representing the number of wheels the vehicle has.\n",
    "        miles: The integral number of miles driven on the vehicle.\n",
    "        make: The make of the vehicle as a string.\n",
    "        model: The model of the vehicle as a string.\n",
    "        year: The integral year the vehicle was built.\n",
    "        sold_on: The date the vehicle was sold.\n",
    "    \"\"\"\n",
    "\n",
    "    base_sale_price = 0\n",
    "\n",
    "    def __init__(self, wheels, miles, make, model, year, sold_on):\n",
    "        \"\"\"Return a new Vehicle object.\"\"\"\n",
    "        self.wheels = wheels\n",
    "        self.miles = miles\n",
    "        self.make = make\n",
    "        self.model = model\n",
    "        self.year = year\n",
    "        self.sold_on = sold_on\n",
    "\n",
    "\n",
    "    def sale_price(self):\n",
    "        \"\"\"Return the sale price for this vehicle as a float amount.\"\"\"\n",
    "        if self.sold_on is not None:\n",
    "            return 0.0  # Already sold\n",
    "        return 5000.0 * self.wheels\n",
    "\n",
    "    def purchase_price(self):\n",
    "        \"\"\"Return the price for which we would pay to purchase the vehicle.\"\"\"\n",
    "        if self.sold_on is None:\n",
    "            return 0.0  # Not yet sold\n",
    "        return self.base_sale_price - (.10 * self.miles)"
   ]
  },
  {
   "cell_type": "code",
   "execution_count": null,
   "metadata": {
    "collapsed": true
   },
   "outputs": [],
   "source": [
    "class Car(Vehicle):\n",
    "\n",
    "    def __init__(self, wheels, miles, make, model, year, sold_on):\n",
    "        \"\"\"Return a new Car object.\"\"\"\n",
    "        self.wheels = wheels\n",
    "        self.miles = miles\n",
    "        self.make = make\n",
    "        self.model = model\n",
    "        self.year = year\n",
    "        self.sold_on = sold_on\n",
    "        self.base_sale_price = 8000\n",
    "\n",
    "\n",
    "class Truck(Vehicle):\n",
    "\n",
    "    def __init__(self, wheels, miles, make, model, year, sold_on):\n",
    "        \"\"\"Return a new Truck object.\"\"\"\n",
    "        self.wheels = wheels\n",
    "        self.miles = miles\n",
    "        self.make = make\n",
    "        self.model = model\n",
    "        self.year = year\n",
    "        self.sold_on = sold_on\n",
    "        self.base_sale_price = 10000"
   ]
  },
  {
   "cell_type": "code",
   "execution_count": null,
   "metadata": {
    "collapsed": true
   },
   "outputs": [],
   "source": []
  }
 ],
 "metadata": {
  "kernelspec": {
   "display_name": "Python [Root]",
   "language": "python",
   "name": "Python [Root]"
  },
  "language_info": {
   "codemirror_mode": {
    "name": "ipython",
    "version": 2
   },
   "file_extension": ".py",
   "mimetype": "text/x-python",
   "name": "python",
   "nbconvert_exporter": "python",
   "pygments_lexer": "ipython2",
   "version": "2.7.12"
  }
 },
 "nbformat": 4,
 "nbformat_minor": 0
}
