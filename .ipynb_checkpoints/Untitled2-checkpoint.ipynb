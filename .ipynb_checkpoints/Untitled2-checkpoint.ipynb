{
 "cells": [
  {
   "cell_type": "code",
   "execution_count": 64,
   "metadata": {
    "collapsed": false
   },
   "outputs": [],
   "source": [
    "class Triangle(object):\n",
    "    \"\"\"Create a triangle object.\"\"\"\n",
    "       \n",
    "    def __init__(self, t1, t2, t3):\n",
    "        self.coor1 = t1\n",
    "        self.coor2 = t2\n",
    "        self.coor3 = t3\n",
    "        self.area = self.get_area()\n",
    "        \n",
    "        self.perimeter = self.get_perimeter()\n",
    "        \n",
    "    def update(self, t1, t2, t3):\n",
    "        self.__init__(t1, t2, t3)\n",
    "    \n",
    "    def get_area(self):\n",
    "        \n",
    "        \"\"\"\n",
    "        Heron's Formula for area of a Triangle\n",
    "        \n",
    "        area = | Ax(By-Cy)+Bx(Cy-Ay)+Cx(Ay-By) |\n",
    "               |-------------------------------|\n",
    "               |               2               | \n",
    "        \"\"\"\n",
    "        return (((self.coor1[0]*(self.coor2[1]-self.coor3[1])\n",
    "                      +self.coor2[0]*(self.coor3[1]-self.coor1[1])\n",
    "                      +self.coor3[0]*(self.coor1[1]-self.coor2[1])\n",
    "                      )/2.0)**2)**0.5\n",
    "    \n",
    "    def get_perimeter(self):\n",
    "        pass\n",
    "    \n",
    "    def __str__(self):\n",
    "        \n",
    "        return str((self.coor1, self.coor2, self.coor3))\n",
    "        \n"
   ]
  },
  {
   "cell_type": "code",
   "execution_count": 74,
   "metadata": {
    "collapsed": false
   },
   "outputs": [],
   "source": [
    "a = Triangle((0,0),(2,3),(4,0))"
   ]
  },
  {
   "cell_type": "code",
   "execution_count": 75,
   "metadata": {
    "collapsed": false
   },
   "outputs": [
    {
     "name": "stdout",
     "output_type": "stream",
     "text": [
      "(0, 0)\n",
      "(2, 3)\n",
      "(4, 0)\n"
     ]
    }
   ],
   "source": [
    "print a.coor1\n",
    "print a.coor2\n",
    "print a.coor3"
   ]
  },
  {
   "cell_type": "code",
   "execution_count": 76,
   "metadata": {
    "collapsed": false
   },
   "outputs": [
    {
     "data": {
      "text/plain": [
       "2"
      ]
     },
     "execution_count": 76,
     "metadata": {},
     "output_type": "execute_result"
    }
   ],
   "source": [
    "a.coor2[0]"
   ]
  },
  {
   "cell_type": "code",
   "execution_count": 77,
   "metadata": {
    "collapsed": false
   },
   "outputs": [
    {
     "name": "stdout",
     "output_type": "stream",
     "text": [
      "((0, 0), (2, 3), (4, 0))\n"
     ]
    }
   ],
   "source": [
    "print a"
   ]
  },
  {
   "cell_type": "code",
   "execution_count": 78,
   "metadata": {
    "collapsed": false
   },
   "outputs": [
    {
     "data": {
      "text/plain": [
       "6.0"
      ]
     },
     "execution_count": 78,
     "metadata": {},
     "output_type": "execute_result"
    }
   ],
   "source": [
    "a.area"
   ]
  },
  {
   "cell_type": "code",
   "execution_count": 79,
   "metadata": {
    "collapsed": false
   },
   "outputs": [],
   "source": [
    "a.update((1,1),(1,2),(1,3))"
   ]
  },
  {
   "cell_type": "code",
   "execution_count": 80,
   "metadata": {
    "collapsed": false
   },
   "outputs": [
    {
     "name": "stdout",
     "output_type": "stream",
     "text": [
      "((1, 1), (1, 2), (1, 3))\n"
     ]
    }
   ],
   "source": [
    "print a"
   ]
  },
  {
   "cell_type": "code",
   "execution_count": 81,
   "metadata": {
    "collapsed": false
   },
   "outputs": [
    {
     "data": {
      "text/plain": [
       "0.0"
      ]
     },
     "execution_count": 81,
     "metadata": {},
     "output_type": "execute_result"
    }
   ],
   "source": [
    "a.area"
   ]
  },
  {
   "cell_type": "code",
   "execution_count": null,
   "metadata": {
    "collapsed": true
   },
   "outputs": [],
   "source": []
  }
 ],
 "metadata": {
  "anaconda-cloud": {},
  "kernelspec": {
   "display_name": "Python [Root]",
   "language": "python",
   "name": "Python [Root]"
  },
  "language_info": {
   "codemirror_mode": {
    "name": "ipython",
    "version": 2
   },
   "file_extension": ".py",
   "mimetype": "text/x-python",
   "name": "python",
   "nbconvert_exporter": "python",
   "pygments_lexer": "ipython2",
   "version": "2.7.12"
  }
 },
 "nbformat": 4,
 "nbformat_minor": 0
}
