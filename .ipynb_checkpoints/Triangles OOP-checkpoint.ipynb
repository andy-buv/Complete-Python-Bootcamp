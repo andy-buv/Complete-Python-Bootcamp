{
 "cells": [
  {
   "cell_type": "code",
   "execution_count": 13,
   "metadata": {
    "collapsed": false
   },
   "outputs": [],
   "source": [
    "def get_distance(t1, t2):\n",
    "            x_diff = t1[0] - t2[0]\n",
    "            y_diff = t1[1] - t2[1]\n",
    "        \n",
    "            dist = (x_diff ** 2 + y_diff ** 2) ** 0.5\n",
    "            return dist\n",
    "\n",
    "\n",
    "class Triangle(object):\n",
    "    \"\"\"Create a triangle object.\"\"\"\n",
    "       \n",
    "    def __init__(self, t1, t2, t3):\n",
    "        self.coor1 = t1\n",
    "        self.coor2 = t2\n",
    "        self.coor3 = t3\n",
    "        self.area = self.get_area()\n",
    "        \n",
    "        self.perimeter = self.get_perimeter()\n",
    "        \n",
    "    def update(self, t1, t2, t3):\n",
    "        self.__init__(t1, t2, t3)\n",
    "    \n",
    "    def get_area(self):\n",
    "        \n",
    "        \"\"\"\n",
    "        Heron's Formula for area of a Triangle\n",
    "        \n",
    "        area = | Ax(By-Cy)+Bx(Cy-Ay)+Cx(Ay-By) |\n",
    "               |-------------------------------|\n",
    "               |               2               | \n",
    "        \"\"\"\n",
    "        return (((self.coor1[0]*(self.coor2[1]-self.coor3[1])\n",
    "                      +self.coor2[0]*(self.coor3[1]-self.coor1[1])\n",
    "                      +self.coor3[0]*(self.coor1[1]-self.coor2[1])\n",
    "                      )/2.0)**2)**0.5\n",
    "    \n",
    "        \"\"\"\n",
    "        Secondary Heron's Formulat for area of a Triangle\n",
    "        \n",
    "        area = (p*(p-a)*(p-b)*(p-c))**0.5,\n",
    "        \n",
    "        where p = half perimeter = (a + b + c)/2.0\n",
    "        \n",
    "    \n",
    "    def get_perimeter(self):\n",
    "        \n",
    "        \n",
    "         \n",
    "        \n",
    "        l_1 = get_distance(self.coor1, self.coor2)\n",
    "        l_2 = get_distance(self.coor2, self.coor3)\n",
    "        l_3 = get_distance(self.coor3, self.coor1)\n",
    "        \n",
    "        return l_1 + l_2 + l_3\n",
    "        \n",
    "    \n",
    "   \n",
    "    \n",
    "    def __str__(self):\n",
    "        \n",
    "        return str((self.coor1, self.coor2, self.coor3))\n",
    "        \n"
   ]
  },
  {
   "cell_type": "code",
   "execution_count": 14,
   "metadata": {
    "collapsed": false
   },
   "outputs": [],
   "source": [
    "a = Triangle((0,0),(2,3),(4,0))"
   ]
  },
  {
   "cell_type": "code",
   "execution_count": 15,
   "metadata": {
    "collapsed": false
   },
   "outputs": [
    {
     "name": "stdout",
     "output_type": "stream",
     "text": [
      "(0, 0)\n",
      "(2, 3)\n",
      "(4, 0)\n"
     ]
    }
   ],
   "source": [
    "print a.coor1\n",
    "print a.coor2\n",
    "print a.coor3"
   ]
  },
  {
   "cell_type": "code",
   "execution_count": 16,
   "metadata": {
    "collapsed": false
   },
   "outputs": [
    {
     "data": {
      "text/plain": [
       "2"
      ]
     },
     "execution_count": 16,
     "metadata": {},
     "output_type": "execute_result"
    }
   ],
   "source": [
    "a.coor2[0]"
   ]
  },
  {
   "cell_type": "code",
   "execution_count": 17,
   "metadata": {
    "collapsed": false
   },
   "outputs": [
    {
     "name": "stdout",
     "output_type": "stream",
     "text": [
      "((0, 0), (2, 3), (4, 0))\n"
     ]
    }
   ],
   "source": [
    "print a"
   ]
  },
  {
   "cell_type": "code",
   "execution_count": 18,
   "metadata": {
    "collapsed": false
   },
   "outputs": [
    {
     "data": {
      "text/plain": [
       "6.0"
      ]
     },
     "execution_count": 18,
     "metadata": {},
     "output_type": "execute_result"
    }
   ],
   "source": [
    "a.area"
   ]
  },
  {
   "cell_type": "code",
   "execution_count": 20,
   "metadata": {
    "collapsed": false
   },
   "outputs": [
    {
     "data": {
      "text/plain": [
       "11.21110255092798"
      ]
     },
     "execution_count": 20,
     "metadata": {},
     "output_type": "execute_result"
    }
   ],
   "source": [
    "a.perimeter"
   ]
  },
  {
   "cell_type": "code",
   "execution_count": null,
   "metadata": {
    "collapsed": true
   },
   "outputs": [],
   "source": []
  },
  {
   "cell_type": "code",
   "execution_count": 21,
   "metadata": {
    "collapsed": false
   },
   "outputs": [],
   "source": [
    "a.update((1,1),(1,2),(1,3))"
   ]
  },
  {
   "cell_type": "code",
   "execution_count": 22,
   "metadata": {
    "collapsed": false
   },
   "outputs": [
    {
     "name": "stdout",
     "output_type": "stream",
     "text": [
      "((1, 1), (1, 2), (1, 3))\n"
     ]
    }
   ],
   "source": [
    "print a"
   ]
  },
  {
   "cell_type": "code",
   "execution_count": 23,
   "metadata": {
    "collapsed": false
   },
   "outputs": [
    {
     "data": {
      "text/plain": [
       "0.0"
      ]
     },
     "execution_count": 23,
     "metadata": {},
     "output_type": "execute_result"
    }
   ],
   "source": [
    "a.area"
   ]
  },
  {
   "cell_type": "code",
   "execution_count": 24,
   "metadata": {
    "collapsed": false
   },
   "outputs": [
    {
     "data": {
      "text/plain": [
       "4.0"
      ]
     },
     "execution_count": 24,
     "metadata": {},
     "output_type": "execute_result"
    }
   ],
   "source": [
    "a.perimeter"
   ]
  },
  {
   "cell_type": "raw",
   "metadata": {},
   "source": []
  },
  {
   "cell_type": "code",
   "execution_count": null,
   "metadata": {
    "collapsed": true
   },
   "outputs": [],
   "source": []
  }
 ],
 "metadata": {
  "anaconda-cloud": {},
  "kernelspec": {
   "display_name": "Python [Root]",
   "language": "python",
   "name": "Python [Root]"
  },
  "language_info": {
   "codemirror_mode": {
    "name": "ipython",
    "version": 2
   },
   "file_extension": ".py",
   "mimetype": "text/x-python",
   "name": "python",
   "nbconvert_exporter": "python",
   "pygments_lexer": "ipython2",
   "version": "2.7.12"
  }
 },
 "nbformat": 4,
 "nbformat_minor": 0
}
