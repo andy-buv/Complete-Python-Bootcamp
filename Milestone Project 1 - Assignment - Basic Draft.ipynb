{
 "cells": [
  {
   "cell_type": "code",
   "execution_count": null,
   "metadata": {
    "collapsed": false
   },
   "outputs": [
    {
     "name": "stdout",
     "output_type": "stream",
     "text": [
      "\n",
      "Commands: \n",
      "    TL = Top Left, TM = Top Middle, TR = Top Right\n",
      "    ML = Mid Left, MM = Mid Middle, MR = Mid Right\n",
      "    BL = Btm Left, BM = Btm Middle, BR = Btm Right\n",
      "\n",
      " | | \n",
      "-----\n",
      " | | \n",
      "-----\n",
      " | | \n",
      "\n"
     ]
    }
   ],
   "source": [
    "def init_players():\n",
    "    global players\n",
    "    global player\n",
    "    players = {'Player 1': 'X', 'Player 2': 'O'}\n",
    "    player = 'Player 1'\n",
    "    \n",
    "    \n",
    "def init_commands():\n",
    "    global commands\n",
    "    global commands_list\n",
    "    commands_list = ['TL','TM','TR','ML','MM','MR','BL','BM','BR']\n",
    "    commands = {}\n",
    "    for command in commands_list:\n",
    "        commands[command] = commands_list.index(command)\n",
    "        \n",
    "    \n",
    "def init_cells():\n",
    "    global cell\n",
    "    cell = [' '] * 9\n",
    "\n",
    "def print_commands():\n",
    "    print \"\"\"\\nCommands: \n",
    "    TL = Top Left, TM = Top Middle, TR = Top Right\n",
    "    ML = Mid Left, MM = Mid Middle, MR = Mid Right\n",
    "    BL = Btm Left, BM = Btm Middle, BR = Btm Right\\n\"\"\"\n",
    "\n",
    "def print_board():\n",
    "    print_commands()\n",
    "    \n",
    "    print \"%s|%s|%s\\n-----\\n%s|%s|%s\\n-----\\n%s|%s|%s\\n\" % (cell[0],cell[1],cell[2],\n",
    "                                                            cell[3],cell[4],cell[5],\n",
    "                                                            cell[6],cell[7],cell[8])\n",
    "\n",
    "def change_player(player):\n",
    "    if player == 'Player 1':\n",
    "        return 'Player 2'\n",
    "    elif player == 'Player 2':\n",
    "        return 'Player 1'\n",
    "    else:\n",
    "        pass\n",
    "    \n",
    "\n",
    "init_players()\n",
    "init_commands()\n",
    "init_cells()\n",
    "game_over = False\n",
    "turns = 0\n",
    "print_board()\n",
    "\n",
    "while not game_over:\n",
    "    \n",
    "\n",
    "    player_input = raw_input('%s your turn. Enter a command:\\n' % player)\n",
    "\n",
    "    while player_input not in commands_list:\n",
    "        player_input = raw_input('Invalid command, try again:\\n')\n",
    "    else:\n",
    "        turns += 1\n",
    "        \n",
    "        cell[commands[player_input]] = players[player]\n",
    "        print_board()\n",
    "        commands_list.remove(player_input)\n",
    "        if len(commands_list) == 0:\n",
    "            game_over = True\n",
    "            print 'Game Over!'\n",
    "            break\n",
    "        player = change_player(player)\n",
    "        \n",
    "        \n",
    "\n",
    "\n",
    "    \n",
    "    \n"
   ]
  },
  {
   "cell_type": "code",
   "execution_count": null,
   "metadata": {
    "collapsed": true
   },
   "outputs": [],
   "source": []
  }
 ],
 "metadata": {
  "anaconda-cloud": {},
  "kernelspec": {
   "display_name": "Python [Root]",
   "language": "python",
   "name": "Python [Root]"
  },
  "language_info": {
   "codemirror_mode": {
    "name": "ipython",
    "version": 2
   },
   "file_extension": ".py",
   "mimetype": "text/x-python",
   "name": "python",
   "nbconvert_exporter": "python",
   "pygments_lexer": "ipython2",
   "version": "2.7.12"
  }
 },
 "nbformat": 4,
 "nbformat_minor": 0
}
