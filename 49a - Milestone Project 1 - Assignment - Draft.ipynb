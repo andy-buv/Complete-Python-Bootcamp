{
 "cells": [
  {
   "cell_type": "code",
   "execution_count": 13,
   "metadata": {
    "collapsed": false
   },
   "outputs": [],
   "source": [
    "def init_cell():\n",
    "    global cell\n",
    "    cell = [' '] * 9\n",
    "\n",
    "init_cell()\n"
   ]
  },
  {
   "cell_type": "code",
   "execution_count": 14,
   "metadata": {
    "collapsed": false
   },
   "outputs": [
    {
     "name": "stdout",
     "output_type": "stream",
     "text": [
      " | | \n",
      "-----\n",
      " | | \n",
      "-----\n",
      " | | \n",
      "\n"
     ]
    }
   ],
   "source": [
    "def print_board():\n",
    "    print \"\"\"%s|%s|%s\\n-----\\n%s|%s|%s\\n-----\\n%s|%s|%s\\n\"\"\" % (cell[0],cell[1],cell[2],\n",
    "                                                               cell[3],cell[4],cell[5],\n",
    "                                                               cell[6],cell[7],cell[8])\n",
    "print_board()"
   ]
  },
  {
   "cell_type": "code",
   "execution_count": 15,
   "metadata": {
    "collapsed": false
   },
   "outputs": [
    {
     "name": "stdout",
     "output_type": "stream",
     "text": [
      " |X| \n",
      "-----\n",
      " | | \n",
      "-----\n",
      " | | \n",
      "\n"
     ]
    }
   ],
   "source": [
    "cell[1] = 'X'\n",
    "print_board()\n"
   ]
  },
  {
   "cell_type": "code",
   "execution_count": 16,
   "metadata": {
    "collapsed": false
   },
   "outputs": [],
   "source": [
    "board_dict = {'TL': 0, 'TM': 1, 'TR':2, \n",
    "              'ML': 3, 'MM': 4, 'MR': 5, \n",
    "              'BL': 6, 'BM': 7, 'BM': 8}\n",
    "board_dict['BM']\n",
    "player_dict = {'Player 1': 'X', 'Player 2': 'O'}"
   ]
  },
  {
   "cell_type": "code",
   "execution_count": 17,
   "metadata": {
    "collapsed": false
   },
   "outputs": [
    {
     "name": "stdout",
     "output_type": "stream",
     "text": [
      "> Player 1, enter your command!TL\n"
     ]
    }
   ],
   "source": [
    "position_marker = raw_input('> Player %d, enter your command!' % 1)"
   ]
  },
  {
   "cell_type": "code",
   "execution_count": 18,
   "metadata": {
    "collapsed": false
   },
   "outputs": [],
   "source": [
    "cell[board_dict[position_marker]] = player_dict['Player 1']"
   ]
  },
  {
   "cell_type": "code",
   "execution_count": 19,
   "metadata": {
    "collapsed": false
   },
   "outputs": [
    {
     "name": "stdout",
     "output_type": "stream",
     "text": [
      "X|X| \n",
      "-----\n",
      " | | \n",
      "-----\n",
      " | | \n",
      "\n"
     ]
    }
   ],
   "source": [
    "print_board()"
   ]
  },
  {
   "cell_type": "code",
   "execution_count": null,
   "metadata": {
    "collapsed": true
   },
   "outputs": [],
   "source": []
  }
 ],
 "metadata": {
  "kernelspec": {
   "display_name": "Python [Root]",
   "language": "python",
   "name": "Python [Root]"
  },
  "language_info": {
   "codemirror_mode": {
    "name": "ipython",
    "version": 2
   },
   "file_extension": ".py",
   "mimetype": "text/x-python",
   "name": "python",
   "nbconvert_exporter": "python",
   "pygments_lexer": "ipython2",
   "version": "2.7.12"
  }
 },
 "nbformat": 4,
 "nbformat_minor": 0
}
